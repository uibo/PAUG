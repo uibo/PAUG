{
 "cells": [
  {
   "cell_type": "code",
   "execution_count": 1,
   "metadata": {},
   "outputs": [],
   "source": [
    "from pyspark.sql import SparkSession\n",
    "from pyspark.sql.functions import to_date, col, udf, StringType"
   ]
  },
  {
   "cell_type": "code",
   "execution_count": 2,
   "metadata": {
    "scrolled": true
   },
   "outputs": [
    {
     "name": "stderr",
     "output_type": "stream",
     "text": [
      "24/06/08 14:37:46 WARN Utils: Your hostname, boui resolves to a loopback address: 127.0.1.1; using 192.168.0.6 instead (on interface wlp1s0)\n",
      "24/06/08 14:37:46 WARN Utils: Set SPARK_LOCAL_IP if you need to bind to another address\n",
      "WARNING: An illegal reflective access operation has occurred\n",
      "WARNING: Illegal reflective access by org.apache.spark.unsafe.Platform (file:/home/boui/Desktop/github/PAUG/venv/lib/python3.10/site-packages/pyspark/jars/spark-unsafe_2.12-3.1.3.jar) to constructor java.nio.DirectByteBuffer(long,int)\n",
      "WARNING: Please consider reporting this to the maintainers of org.apache.spark.unsafe.Platform\n",
      "WARNING: Use --illegal-access=warn to enable warnings of further illegal reflective access operations\n",
      "WARNING: All illegal access operations will be denied in a future release\n",
      "24/06/08 14:37:47 WARN NativeCodeLoader: Unable to load native-hadoop library for your platform... using builtin-java classes where applicable\n",
      "Using Spark's default log4j profile: org/apache/spark/log4j-defaults.properties\n",
      "Setting default log level to \"WARN\".\n",
      "To adjust logging level use sc.setLogLevel(newLevel). For SparkR, use setLogLevel(newLevel).\n"
     ]
    }
   ],
   "source": [
    "spark = SparkSession.builder.appName(\"CleaningApp\").getOrCreate()"
   ]
  },
  {
   "cell_type": "code",
   "execution_count": 4,
   "metadata": {},
   "outputs": [],
   "source": [
    "# raw data 품목에 따라서 file_path설정\n",
    "rawdata_file_path_bunjang = \"hdfs://localhost:9000/user/test/iphone14_bunjang.csv\"\n",
    "rawdata_file_path_joongnaCafe = \"hdfs://localhost:9000/user/test/iphone14_joongnaCafe.csv\"\n",
    "rawdata_file_path_joongnaSite = \"hdfs://localhost:9000/user/test/iphone14_joongnaSite.csv\"\n",
    "rawdata_file_path_daangn = \"hdfs://localhost:9000/user/test/iphone_daangn.csv\"\n",
    "\n",
    "df_bunjang = spark.read.csv(rawdata_file_path_bunjang, header = True, multiLine=True, quote='\"', escape='\"')\n",
    "df_joongnaCafe = spark.read.csv(rawdata_file_path_joongnaCafe, header = True, multiLine=True, quote='\"', escape='\"')\n",
    "df_joongnaSite = spark.read.csv(rawdata_file_path_joongnaSite, header = True, multiLine=True, quote='\"', escape='\"')\n",
    "df_daangn = spark.read.csv(rawdata_file_path_daangn , header = True, multiLine=True, quote='\"', escape='\"')\n",
    "\n",
    "#bunjang만 condition column이 추가로 있어서 삭제\n",
    "df_bunjang = df_bunjang.drop(df_bunjang.condition)\n",
    "\n",
    "#3사 rawdata 통합\n",
    "df = df_bunjang.union(df_joongnaCafe).union(df_joongnaSite).union(df_daangn)"
   ]
  },
  {
   "cell_type": "code",
   "execution_count": 15,
   "metadata": {},
   "outputs": [],
   "source": [
    "# 몇 년전, 몇 달전, 몇 주전 3가지 경우 몇 일 거래인지 정확한 판독불가\n",
    "def filtering_date(upload_date):\n",
    "    if upload_date is None:\n",
    "        return None\n",
    "    \n",
    "    if '00' in upload_date:\n",
    "        # 2023년 거래인 것은 확실, 월 일 부정확한 데이터, 0023년은 2023년 1년치 계산시에만 사용\n",
    "        if '00.00' in upload_date:\n",
    "            return '0023.01.01'\n",
    "        # 년 월은 분명하지만 일은 부정확한 데이터 분류, 102X년 0X월 01일은 202X년 0X월 데이터 분석시에만 사용\n",
    "        return upload_date.replace('00','01').replace('20','10')\n",
    "    return upload_date\n",
    "        \n",
    "filtering_date_udf = udf(filtering_date, StringType())"
   ]
  },
  {
   "cell_type": "code",
   "execution_count": 16,
   "metadata": {},
   "outputs": [],
   "source": [
    "df = df.withColumn('upload_date', filtering_date_udf(df.upload_date))"
   ]
  },
  {
   "cell_type": "code",
   "execution_count": 17,
   "metadata": {},
   "outputs": [
    {
     "name": "stderr",
     "output_type": "stream",
     "text": [
      "Traceback (most recent call last):\n",
      "  File \"/home/boui/Desktop/github/PAUG/venv/lib/python3.10/site-packages/pyspark/python/lib/pyspark.zip/pyspark/daemon.py\", line 186, in manager\n",
      "  File \"/home/boui/Desktop/github/PAUG/venv/lib/python3.10/site-packages/pyspark/python/lib/pyspark.zip/pyspark/daemon.py\", line 74, in worker\n",
      "  File \"/home/boui/Desktop/github/PAUG/venv/lib/python3.10/site-packages/pyspark/python/lib/pyspark.zip/pyspark/worker.py\", line 643, in main\n",
      "    if read_int(infile) == SpecialLengths.END_OF_STREAM:\n",
      "  File \"/home/boui/Desktop/github/PAUG/venv/lib/python3.10/site-packages/pyspark/python/lib/pyspark.zip/pyspark/serializers.py\", line 564, in read_int\n",
      "    raise EOFError\n",
      "EOFError\n"
     ]
    },
    {
     "name": "stdout",
     "output_type": "stream",
     "text": [
      "+---------------------------------+----------------------------------+-------+-----------+-----------------------------+------+--------------------+--------------------+\n",
      "|                            title|                           context|  price|upload_date|                     location|status|              imgUrl|                 url|\n",
      "+---------------------------------+----------------------------------+-------+-----------+-----------------------------+------+--------------------+--------------------+\n",
      "|중고폰매입 아이폰매입 아이폰15...|      👉 아이폰 최고가 매입 👈\n",
      "...| 555000| 0023.01.01|    인천광역시 부평구 부평1동|     0|https://media.bun...|https://m.bunjang...|\n",
      "|아이폰매입 아이폰11프로 아이폰...|  안녕하세요!\n",
      "번개장터 7년차 중...| 970000| 1024.05.01|    인천광역시 부평구 부평1동|     0|https://media.bun...|https://m.bunjang...|\n",
      "|      아이폰 14 pro 프로 투명 ...|    새상품입니다\n",
      "1) 4개에 일괄 ...|   4000| 2024.06.05|                            -|     0|https://media.bun...|https://m.bunjang...|\n",
      "|        케이스티파이 아이폰14프로| 왼쪽은 팔렸고 오른쪽 고양이만 ...|  50000| 2024.06.05|       경상북도 경산시 북부동|     0|https://media.bun...|https://m.bunjang...|\n",
      "|    아이폰 14 프로 맥스 실버 5...|   아이폰 14프로 맥스\n",
      "색상:실버...|1250000| 2024.06.05|                            -|     0|https://media.bun...|https://m.bunjang...|\n",
      "|     파손폰매입,아이폰11,12,13...|   📌번개장터 거래리뷰 5점 만점...| 980000| 2024.06.05|  부산광역시 수영구 광안제1동|     0|https://media.bun...|https://m.bunjang...|\n",
      "|        28123 아이폰14 128기가...|  @ 글 제목에 상품번호 알려주시...| 560000| 2024.06.05|  부산광역시 금정구 장전제1동|     0|https://media.bun...|https://m.bunjang...|\n",
      "|          아이폰 14 프로 128 블랙|     사용하던 아이폰 14프로 128...| 800000| 2024.06.05|         경기도 시흥시 능곡동|     0|https://media.bun...|https://m.bunjang...|\n",
      "|  아이폰 14 프로 케이스 그래파...| 개봉은 했지만 사용하지 않아서 ...|   6000| 2024.06.05|                            -|     0|https://media.bun...|https://m.bunjang...|\n",
      "|아이폰14 사생활보호크리스탈 필...| 폰공급소 (폰악세사리 모든것 취...|   4000| 2024.06.05|                            -|     0|https://media.bun...|https://m.bunjang...|\n",
      "|       [KT,LG만 가능]/ 새상품 ...|도매에서 소매로 넘기는 가격으로...| 250000| 2024.05.29|                            -|     0|https://media.bun...|https://m.bunjang...|\n",
      "|   아이폰14프로 256기가(밧데리...|      ★가격: 105만원 네고불가\n",
      "\n",
      "...|1050000| 2024.06.05|    인천광역시 남동구 구월4동|     0|https://media.bun...|https://m.bunjang...|\n",
      "|     [미개봉][정품]아이폰14,13...|        실리콘 30,000원/ 가죽 3...|  30000| 2024.06.05|서울특별시 영등포구 신길제1동|     0|https://media.bun...|https://m.bunjang...|\n",
      "| [미개봉][정품]애플가죽케이스/...|        실리콘 30,000원/ 가죽 3...|  35000| 2024.06.05|서울특별시 영등포구 신길제1동|     0|https://media.bun...|https://m.bunjang...|\n",
      "|             아이폰14프로 256 98%|      아이폰14프로 퍼플 256 \n",
      "배...| 850000| 2024.06.05|        경기도 파주시 운정6동|     0|https://media.bun...|https://m.bunjang...|\n",
      "|  [도매상품/새상품] 아이폰14프...|        SK : 품절\n",
      "\n",
      "KT로 이동시 ...| 190000| 2024.05.22|                            -|     0|https://media.bun...|https://m.bunjang...|\n",
      "|        아이폰 14pro 256g 실버...|     아이폰 14프로 실버 256팔아...| 850000| 2024.06.05|                            -|     0|https://media.bun...|https://m.bunjang...|\n",
      "|                  아이폰 14케이스|   아이폰 14케이스 팔아요\n",
      "전부 ...|   6000| 2024.06.05|                            -|     0|https://media.bun...|https://m.bunjang...|\n",
      "|            아이폰14 휴대폰케이스|  아이폰14 휴대폰케이스 입니다....|  11000| 2024.06.05|       대구광역시 북구 국우동|     0|https://media.bun...|https://m.bunjang...|\n",
      "|    아이폰14프로맥스 휴대폰케이스| 아이폰14프로맥스 휴대폰케이스 ...|  10500| 2024.06.05|       대구광역시 북구 국우동|     0|https://media.bun...|https://m.bunjang...|\n",
      "+---------------------------------+----------------------------------+-------+-----------+-----------------------------+------+--------------------+--------------------+\n",
      "only showing top 20 rows\n",
      "\n",
      "None\n",
      "39197\n"
     ]
    }
   ],
   "source": [
    "print(df.show())\n",
    "print(df.count())"
   ]
  },
  {
   "cell_type": "code",
   "execution_count": 18,
   "metadata": {},
   "outputs": [],
   "source": [
    "df = df.withColumn('price', df.price.cast(\"int\")) \\\n",
    "    .withColumn('status', df.status.cast('int')) \\\n",
    "    .withColumn('upload_date', to_date(df.upload_date, 'yyyy.MM.dd'))"
   ]
  },
  {
   "cell_type": "code",
   "execution_count": 19,
   "metadata": {},
   "outputs": [
    {
     "name": "stderr",
     "output_type": "stream",
     "text": [
      "Traceback (most recent call last):\n",
      "  File \"/home/boui/Desktop/github/PAUG/venv/lib/python3.10/site-packages/pyspark/python/lib/pyspark.zip/pyspark/daemon.py\", line 186, in manager\n",
      "  File \"/home/boui/Desktop/github/PAUG/venv/lib/python3.10/site-packages/pyspark/python/lib/pyspark.zip/pyspark/daemon.py\", line 74, in worker\n",
      "  File \"/home/boui/Desktop/github/PAUG/venv/lib/python3.10/site-packages/pyspark/python/lib/pyspark.zip/pyspark/worker.py\", line 643, in main\n",
      "    if read_int(infile) == SpecialLengths.END_OF_STREAM:\n",
      "  File \"/home/boui/Desktop/github/PAUG/venv/lib/python3.10/site-packages/pyspark/python/lib/pyspark.zip/pyspark/serializers.py\", line 564, in read_int\n",
      "    raise EOFError\n",
      "EOFError\n"
     ]
    },
    {
     "name": "stdout",
     "output_type": "stream",
     "text": [
      "+---------------------------------+----------------------------------+-------+-----------+-----------------------------+------+--------------------+--------------------+\n",
      "|                            title|                           context|  price|upload_date|                     location|status|              imgUrl|                 url|\n",
      "+---------------------------------+----------------------------------+-------+-----------+-----------------------------+------+--------------------+--------------------+\n",
      "|중고폰매입 아이폰매입 아이폰15...|      👉 아이폰 최고가 매입 👈\n",
      "...| 555000| 0023-01-01|    인천광역시 부평구 부평1동|     0|https://media.bun...|https://m.bunjang...|\n",
      "|아이폰매입 아이폰11프로 아이폰...|  안녕하세요!\n",
      "번개장터 7년차 중...| 970000| 1024-05-01|    인천광역시 부평구 부평1동|     0|https://media.bun...|https://m.bunjang...|\n",
      "|      아이폰 14 pro 프로 투명 ...|    새상품입니다\n",
      "1) 4개에 일괄 ...|   4000| 2024-06-05|                            -|     0|https://media.bun...|https://m.bunjang...|\n",
      "|        케이스티파이 아이폰14프로| 왼쪽은 팔렸고 오른쪽 고양이만 ...|  50000| 2024-06-05|       경상북도 경산시 북부동|     0|https://media.bun...|https://m.bunjang...|\n",
      "|    아이폰 14 프로 맥스 실버 5...|   아이폰 14프로 맥스\n",
      "색상:실버...|1250000| 2024-06-05|                            -|     0|https://media.bun...|https://m.bunjang...|\n",
      "|     파손폰매입,아이폰11,12,13...|   📌번개장터 거래리뷰 5점 만점...| 980000| 2024-06-05|  부산광역시 수영구 광안제1동|     0|https://media.bun...|https://m.bunjang...|\n",
      "|        28123 아이폰14 128기가...|  @ 글 제목에 상품번호 알려주시...| 560000| 2024-06-05|  부산광역시 금정구 장전제1동|     0|https://media.bun...|https://m.bunjang...|\n",
      "|          아이폰 14 프로 128 블랙|     사용하던 아이폰 14프로 128...| 800000| 2024-06-05|         경기도 시흥시 능곡동|     0|https://media.bun...|https://m.bunjang...|\n",
      "|  아이폰 14 프로 케이스 그래파...| 개봉은 했지만 사용하지 않아서 ...|   6000| 2024-06-05|                            -|     0|https://media.bun...|https://m.bunjang...|\n",
      "|아이폰14 사생활보호크리스탈 필...| 폰공급소 (폰악세사리 모든것 취...|   4000| 2024-06-05|                            -|     0|https://media.bun...|https://m.bunjang...|\n",
      "|       [KT,LG만 가능]/ 새상품 ...|도매에서 소매로 넘기는 가격으로...| 250000| 2024-05-29|                            -|     0|https://media.bun...|https://m.bunjang...|\n",
      "|   아이폰14프로 256기가(밧데리...|      ★가격: 105만원 네고불가\n",
      "\n",
      "...|1050000| 2024-06-05|    인천광역시 남동구 구월4동|     0|https://media.bun...|https://m.bunjang...|\n",
      "|     [미개봉][정품]아이폰14,13...|        실리콘 30,000원/ 가죽 3...|  30000| 2024-06-05|서울특별시 영등포구 신길제1동|     0|https://media.bun...|https://m.bunjang...|\n",
      "| [미개봉][정품]애플가죽케이스/...|        실리콘 30,000원/ 가죽 3...|  35000| 2024-06-05|서울특별시 영등포구 신길제1동|     0|https://media.bun...|https://m.bunjang...|\n",
      "|             아이폰14프로 256 98%|      아이폰14프로 퍼플 256 \n",
      "배...| 850000| 2024-06-05|        경기도 파주시 운정6동|     0|https://media.bun...|https://m.bunjang...|\n",
      "|  [도매상품/새상품] 아이폰14프...|        SK : 품절\n",
      "\n",
      "KT로 이동시 ...| 190000| 2024-05-22|                            -|     0|https://media.bun...|https://m.bunjang...|\n",
      "|        아이폰 14pro 256g 실버...|     아이폰 14프로 실버 256팔아...| 850000| 2024-06-05|                            -|     0|https://media.bun...|https://m.bunjang...|\n",
      "|                  아이폰 14케이스|   아이폰 14케이스 팔아요\n",
      "전부 ...|   6000| 2024-06-05|                            -|     0|https://media.bun...|https://m.bunjang...|\n",
      "|            아이폰14 휴대폰케이스|  아이폰14 휴대폰케이스 입니다....|  11000| 2024-06-05|       대구광역시 북구 국우동|     0|https://media.bun...|https://m.bunjang...|\n",
      "|    아이폰14프로맥스 휴대폰케이스| 아이폰14프로맥스 휴대폰케이스 ...|  10500| 2024-06-05|       대구광역시 북구 국우동|     0|https://media.bun...|https://m.bunjang...|\n",
      "+---------------------------------+----------------------------------+-------+-----------+-----------------------------+------+--------------------+--------------------+\n",
      "only showing top 20 rows\n",
      "\n",
      "None\n",
      "39197\n"
     ]
    }
   ],
   "source": [
    "print(df.show())\n",
    "print(df.count())"
   ]
  },
  {
   "cell_type": "code",
   "execution_count": 20,
   "metadata": {},
   "outputs": [
    {
     "name": "stdout",
     "output_type": "stream",
     "text": [
      "root\n",
      " |-- title: string (nullable = true)\n",
      " |-- context: string (nullable = true)\n",
      " |-- price: integer (nullable = true)\n",
      " |-- upload_date: date (nullable = true)\n",
      " |-- location: string (nullable = true)\n",
      " |-- status: integer (nullable = true)\n",
      " |-- imgUrl: string (nullable = true)\n",
      " |-- url: string (nullable = true)\n",
      "\n"
     ]
    }
   ],
   "source": [
    "df.printSchema()"
   ]
  },
  {
   "cell_type": "markdown",
   "metadata": {},
   "source": [
    "## 이상치 제거"
   ]
  },
  {
   "cell_type": "code",
   "execution_count": 13,
   "metadata": {},
   "outputs": [],
   "source": [
    "# # case 판매글 제거하기 위해 price값에서 이상치 제거\n",
    "# quantiles = df.approxQuantile(\"price\", [0.25, 0.75], 0.05)\n",
    "# Q1 = quantiles[0]\n",
    "# Q3 = quantiles[1]\n",
    "# IQR = Q3 - Q1\n",
    "\n",
    "# # IQR에 따라 이상치 제거\n",
    "# lower_bound = Q1 - 1.5 * IQR\n",
    "# upper_bound = Q3 + 1.5 * IQR\n",
    "\n",
    "# case게시글이 많아서 case 판매 가격이 이상치로 분류가 안됨 가격 수동설정 필요\n",
    "df = df.filter((col(\"price\") >= 200000) & (col(\"price\") <= 3000000))"
   ]
  },
  {
   "cell_type": "code",
   "execution_count": 21,
   "metadata": {},
   "outputs": [
    {
     "name": "stdout",
     "output_type": "stream",
     "text": [
      "0\n"
     ]
    }
   ],
   "source": [
    "# 중복 게시글 제거\n",
    "df = df.filter(col(\"upload_date\") != \"None\")\n",
    "df = df.filter(~(col('context').rlike('업체|매입|최저가|최고가')))\n",
    "df = df.dropDuplicates([\"title\", \"context\"])\n",
    "print(df.count())"
   ]
  },
  {
   "cell_type": "code",
   "execution_count": 15,
   "metadata": {},
   "outputs": [
    {
     "name": "stderr",
     "output_type": "stream",
     "text": [
      "                                                                                \r"
     ]
    }
   ],
   "source": [
    "df = df.toPandas()\n",
    "df.to_csv(\"/home/boui/Desktop/usedGoods_data/rawdata/iphone14_filtering.csv\", index = False, header = True, encoding = 'utf-8-sig')"
   ]
  }
 ],
 "metadata": {
  "kernelspec": {
   "display_name": "Python 3 (ipykernel)",
   "language": "python",
   "name": "python3"
  },
  "language_info": {
   "codemirror_mode": {
    "name": "ipython",
    "version": 3
   },
   "file_extension": ".py",
   "mimetype": "text/x-python",
   "name": "python",
   "nbconvert_exporter": "python",
   "pygments_lexer": "ipython3",
   "version": "3.10.12"
  }
 },
 "nbformat": 4,
 "nbformat_minor": 4
}
